{
 "cells": [
  {
   "cell_type": "code",
   "execution_count": 29,
   "metadata": {
    "scrolled": true
   },
   "outputs": [
    {
     "data": {
      "application/vnd.jupyter.widget-view+json": {
       "model_id": "6c6e8f2c2773405186f592121abe4e6c",
       "version_major": 2,
       "version_minor": 0
      },
      "text/plain": [
       "HBox(children=(FloatProgress(value=1.0, bar_style='info', max=1.0), HTML(value='')))"
      ]
     },
     "metadata": {},
     "output_type": "display_data"
    },
    {
     "data": {
      "application/vnd.jupyter.widget-view+json": {
       "model_id": "a8772e9f113a4f7b95a3a6ed22f31c9c",
       "version_major": 2,
       "version_minor": 0
      },
      "text/plain": [
       "HBox(children=(FloatProgress(value=0.0, description='processing', max=10000.0, style=ProgressStyle(description…"
      ]
     },
     "metadata": {},
     "output_type": "display_data"
    },
    {
     "name": "stdout",
     "output_type": "stream",
     "text": [
      "\n"
     ]
    },
    {
     "data": {
      "application/vnd.jupyter.widget-view+json": {
       "model_id": "9441e74ec6b94be184d2907996972841",
       "version_major": 2,
       "version_minor": 0
      },
      "text/plain": [
       "HBox(children=(FloatProgress(value=0.0, description='processing', max=10000.0, style=ProgressStyle(description…"
      ]
     },
     "metadata": {},
     "output_type": "display_data"
    },
    {
     "name": "stdout",
     "output_type": "stream",
     "text": [
      "\n",
      "\n",
      "4.37 s ± 36.5 ms per loop (mean ± std. dev. of 7 runs, 1 loop each)\n",
      "176 ms ± 1.35 ms per loop (mean ± std. dev. of 7 runs, 10 loops each)\n",
      "979 ms ± 4.58 ms per loop (mean ± std. dev. of 7 runs, 1 loop each)\n",
      "249 ms ± 1.87 ms per loop (mean ± std. dev. of 7 runs, 1 loop each)\n",
      "247 ms ± 2.38 ms per loop (mean ± std. dev. of 7 runs, 1 loop each)\n",
      "4.89 ms ± 29.1 µs per loop (mean ± std. dev. of 7 runs, 100 loops each)\n",
      "286 µs ± 3.9 µs per loop (mean ± std. dev. of 7 runs, 1000 loops each)\n",
      "132 µs ± 3.27 µs per loop (mean ± std. dev. of 7 runs, 10000 loops each)\n"
     ]
    }
   ],
   "source": [
    "\n",
    "import pandas as pd\n",
    "import numpy as np\n",
    "import time\n",
    "from tqdm import tqdm\n",
    "from tqdm.notebook import tqdm_notebook\n",
    "\n",
    "\n",
    "# python 循環 + iloc 定位\n",
    "def method0_sum(DF):\n",
    "    for i in range(len(DF)):\n",
    "        DF.iloc[i,5] = DF.iloc[i,0] + DF.iloc[i,1]\n",
    "\n",
    "# python 循環 + iat 定位\n",
    "def method1_sum(DF):\n",
    "    for i in range(len(DF)):\n",
    "        DF.iat[i,5] = DF.iat[i,0] + DF.iat[i,1]\n",
    "\n",
    "# pandas.DataFrame.iterrows() 迭代器\n",
    "def method2_sum(DF):\n",
    "    for index, rows in DF.iterrows():\n",
    "        rows[5] = rows[0] + rows[1]\n",
    "\n",
    "# pandas.DataFrame.apply 迭代\n",
    "def method3_sum(DF):\n",
    "    DF[5] = DF.apply(lambda x: x[0] + x[1], axis=1)\n",
    "\n",
    "# pandas.DataFrame.apply 迭代 + 只讀兩列\n",
    "def method4_sum(DF):\n",
    "    DF[5] = DF[[0,1]].apply(lambda x: x[0] + x[1], axis=1)\n",
    "    \n",
    "# 列表構造\n",
    "def method5_sum(DF):\n",
    "    DF[5] = [ a+b for a,b in zip(DF[0],DF[1]) ]\n",
    "\n",
    "# pandas 數組操作\n",
    "def method6_sum(DF):\n",
    "    DF[5] = DF[0] + DF[1]\n",
    "\n",
    "# numpy 數組操作\n",
    "def method7_sum(DF):\n",
    "    DF[5] = DF[0].values + DF[1].values\n",
    "\n",
    "\n",
    "df = pd.DataFrame(np.random.randint(0, 100, (10000, 6)))\n",
    "tqdm_notebook().pandas(desc=\"processing\") \n",
    "df[0] = df[0].progress_map(lambda x: x ** 2)\n",
    "df[1] = df[1].progress_map(lambda x: x ** 3)\n",
    "\n",
    "%timeit method0_sum(df)\n",
    "\n",
    "%timeit method1_sum(df)\n",
    "\n",
    "%timeit method2_sum(df)\n",
    "\n",
    "%timeit method3_sum(df)\n",
    "\n",
    "%timeit method4_sum(df)\n",
    "\n",
    "%timeit method5_sum(df)\n",
    "\n",
    "%timeit method6_sum(df)\n",
    "\n",
    "%timeit method7_sum(df)\n"
   ]
  },
  {
   "cell_type": "code",
   "execution_count": 20,
   "metadata": {},
   "outputs": [
    {
     "name": "stdout",
     "output_type": "stream",
     "text": [
      "Automatic pdb calling has been turned ON\n"
     ]
    }
   ],
   "source": [
    "%pdb\n",
    "%matplotlib inline\n"
   ]
  },
  {
   "cell_type": "code",
   "execution_count": 2,
   "metadata": {},
   "outputs": [
    {
     "name": "stdout",
     "output_type": "stream",
     "text": [
      "123\n"
     ]
    }
   ],
   "source": [
    "b = 123\n",
    "print(b)"
   ]
  },
  {
   "cell_type": "code",
   "execution_count": null,
   "metadata": {},
   "outputs": [],
   "source": []
  }
 ],
 "metadata": {
  "kernelspec": {
   "display_name": "Python 3",
   "language": "python",
   "name": "python3"
  },
  "language_info": {
   "codemirror_mode": {
    "name": "ipython",
    "version": 3
   },
   "file_extension": ".py",
   "mimetype": "text/x-python",
   "name": "python",
   "nbconvert_exporter": "python",
   "pygments_lexer": "ipython3",
   "version": "3.7.3"
  }
 },
 "nbformat": 4,
 "nbformat_minor": 4
}
